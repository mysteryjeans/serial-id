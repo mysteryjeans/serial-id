{
 "cells": [
  {
   "cell_type": "markdown",
   "id": "d965a138",
   "metadata": {},
   "source": [
    "## Serial Id generations test"
   ]
  },
  {
   "cell_type": "code",
   "execution_count": 1,
   "id": "065cd177",
   "metadata": {},
   "outputs": [
    {
     "data": {
      "text/plain": [
       "[<SerialId('4t8ax5bs-6gvqk2sy')>,\n",
       " <SerialId('4t8ax5bs-xsbypbj0')>,\n",
       " <SerialId('4t8ax5bs-ckm21j07')>,\n",
       " <SerialId('4t8ax5bs-sgx82mz4')>,\n",
       " <SerialId('4t8ax5bs-vp61yjkk')>]"
      ]
     },
     "execution_count": 1,
     "metadata": {},
     "output_type": "execute_result"
    }
   ],
   "source": [
    "import serialid\n",
    "\n",
    "ids = [serialid.new() for _ in range(0, 10)]\n",
    "ids[:5]"
   ]
  },
  {
   "cell_type": "markdown",
   "id": "5a59c652",
   "metadata": {},
   "source": [
    "### Sequential Ids but with some randomness"
   ]
  },
  {
   "cell_type": "code",
   "execution_count": 2,
   "id": "1e27c761",
   "metadata": {},
   "outputs": [
    {
     "data": {
      "text/plain": [
       "[182118837605940169123258,\n",
       " 182118837605940169123259,\n",
       " 182118837605940169123260,\n",
       " 182118837606267826999526,\n",
       " 182118837606267826999527]"
      ]
     },
     "execution_count": 2,
     "metadata": {},
     "output_type": "execute_result"
    }
   ],
   "source": [
    "seq_ids = []\n",
    "new_sid = serialid.new()\n",
    "\n",
    "for _ in range(0, 1000):\n",
    "    new_sid = serialid.new_seq(new_sid)\n",
    "    seq_ids.append(new_sid)\n",
    "\n",
    "int_ids = [id.int for id in seq_ids]\n",
    "sorted_ids = sorted(int_ids)\n",
    "\n",
    "for i in range(0, len(int_ids)):\n",
    "    assert sorted_ids[i] == seq_ids[i]\n",
    "\n",
    "sorted_ids[:5]"
   ]
  },
  {
   "cell_type": "markdown",
   "id": "72a11bae",
   "metadata": {},
   "source": [
    "### Sorting is same for SerialId and String"
   ]
  },
  {
   "cell_type": "code",
   "execution_count": 3,
   "id": "5cbca307",
   "metadata": {},
   "outputs": [
    {
     "data": {
      "text/plain": [
       "[<SerialId('4t8ax5c7-mpdp39dt')>,\n",
       " <SerialId('4t8ax5c7-mpdp39dv')>,\n",
       " <SerialId('4t8ax5c7-mpdp39dw')>,\n",
       " <SerialId('4t8ax5c7-y7jn0476')>,\n",
       " <SerialId('4t8ax5c7-y7jn0477')>]"
      ]
     },
     "execution_count": 3,
     "metadata": {},
     "output_type": "execute_result"
    }
   ],
   "source": [
    "str_ids = [id.str for id in seq_ids]\n",
    "sorted_str_ids = sorted(str_ids)\n",
    "\n",
    "for i in range(0, len(str_ids)):\n",
    "    assert sorted_str_ids[i] == str_ids[i]\n",
    "\n",
    "serial_ids = [serialid.parse(id) for id in str_ids]\n",
    "sorted_serial_ids = sorted(serial_ids)\n",
    "\n",
    "for i in range(0, len(serial_ids)):\n",
    "    assert sorted_serial_ids[i] == sorted_str_ids[i]\n",
    "\n",
    "sorted_serial_ids[:5]"
   ]
  },
  {
   "cell_type": "code",
   "execution_count": 13,
   "id": "520f6fb2",
   "metadata": {},
   "outputs": [
    {
     "data": {
      "text/plain": [
       "[datetime.datetime(2022, 6, 28, 2, 24, 56, 700000),\n",
       " datetime.datetime(2022, 6, 28, 2, 25, 1, 710000),\n",
       " datetime.datetime(2039, 1, 1, 0, 0)]"
      ]
     },
     "execution_count": 13,
     "metadata": {},
     "output_type": "execute_result"
    }
   ],
   "source": [
    "import datetime, time, serialid\n",
    "u1 = serialid.new()\n",
    "time.sleep(5)\n",
    "u2 = serialid.new()\n",
    "u1 < u2\n",
    " \n",
    "u3 = serialid.from_timestamp(datetime.datetime(2039, 1, 1))\n",
    "u1 < u2 < u3\n",
    "[u.timestamp().datetime for u in sorted([u2, u3, u1])]"
   ]
  }
 ],
 "metadata": {
  "kernelspec": {
   "display_name": "Python 3.9.13 64-bit",
   "language": "python",
   "name": "python3"
  },
  "language_info": {
   "codemirror_mode": {
    "name": "ipython",
    "version": 3
   },
   "file_extension": ".py",
   "mimetype": "text/x-python",
   "name": "python",
   "nbconvert_exporter": "python",
   "pygments_lexer": "ipython3",
   "version": "3.9.13"
  },
  "vscode": {
   "interpreter": {
    "hash": "aee8b7b246df8f9039afb4144a1f6fd8d2ca17a180786b69acc140d282b71a49"
   }
  }
 },
 "nbformat": 4,
 "nbformat_minor": 5
}
