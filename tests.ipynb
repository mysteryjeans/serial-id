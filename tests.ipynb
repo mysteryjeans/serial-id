{
 "cells": [
  {
   "cell_type": "markdown",
   "id": "d965a138",
   "metadata": {},
   "source": [
    "## Serial Id generations test"
   ]
  },
  {
   "cell_type": "code",
   "execution_count": 2,
   "id": "065cd177",
   "metadata": {},
   "outputs": [
    {
     "data": {
      "text/plain": [
       "[<SerialId('4t8at9cs-xy5g9cka')>,\n",
       " <SerialId('4t8at9cs-4ap7nbep')>,\n",
       " <SerialId('4t8at9cs-ag06eyk1')>,\n",
       " <SerialId('4t8at9cs-da2skr8p')>,\n",
       " <SerialId('4t8at9cs-k9h3xqqr')>]"
      ]
     },
     "execution_count": 2,
     "metadata": {},
     "output_type": "execute_result"
    }
   ],
   "source": [
    "import serialid\n",
    "\n",
    "ids = [serialid.new() for _ in range(0, 10)]\n",
    "ids[:5]"
   ]
  },
  {
   "cell_type": "markdown",
   "id": "5a59c652",
   "metadata": {},
   "source": [
    "### Sequential Ids but with some randomness"
   ]
  },
  {
   "cell_type": "code",
   "execution_count": 6,
   "id": "1e27c761",
   "metadata": {},
   "outputs": [
    {
     "data": {
      "text/plain": [
       "[182118774530423242277657,\n",
       " 182118774530423242277658,\n",
       " 182118774530423242277659,\n",
       " 182118774530423242277660,\n",
       " 182118774530423242277661]"
      ]
     },
     "execution_count": 6,
     "metadata": {},
     "output_type": "execute_result"
    }
   ],
   "source": [
    "seq_ids = []\n",
    "new_sid = serialid.new()\n",
    "\n",
    "for _ in range(0, 1000):\n",
    "    new_sid = serialid.new_seq(new_sid)\n",
    "    seq_ids.append(new_sid)\n",
    "\n",
    "int_ids = [id.int for id in seq_ids]\n",
    "sorted_ids = sorted(int_ids)\n",
    "\n",
    "for i in range(0, len(int_ids)):\n",
    "    assert sorted_ids[i] == seq_ids[i]\n",
    "\n",
    "sorted_ids[:5]"
   ]
  },
  {
   "cell_type": "markdown",
   "id": "72a11bae",
   "metadata": {},
   "source": [
    "### Sorting is same for SerialId and String"
   ]
  },
  {
   "cell_type": "code",
   "execution_count": 4,
   "id": "5cbca307",
   "metadata": {},
   "outputs": [
    {
     "data": {
      "text/plain": [
       "[<SerialId('4t8at9d3-wkbs4skb')>,\n",
       " <SerialId('4t8at9d3-wkbs4skc')>,\n",
       " <SerialId('4t8at9d3-wkbs4skd')>,\n",
       " <SerialId('4t8at9d3-wkbs4ske')>,\n",
       " <SerialId('4t8at9d3-wkbs4skf')>]"
      ]
     },
     "execution_count": 4,
     "metadata": {},
     "output_type": "execute_result"
    }
   ],
   "source": [
    "str_ids = [id.str for id in seq_ids]\n",
    "sorted_str_ids = sorted(str_ids)\n",
    "\n",
    "for i in range(0, len(str_ids)):\n",
    "    assert sorted_str_ids[i] == str_ids[i]\n",
    "\n",
    "serial_ids = [serialid.parse(id) for id in str_ids]\n",
    "sorted_serial_ids = sorted(serial_ids)\n",
    "\n",
    "for i in range(0, len(serial_ids)):\n",
    "    assert sorted_serial_ids[i] == sorted_str_ids[i]\n",
    "\n",
    "sorted_serial_ids[:5]"
   ]
  }
 ],
 "metadata": {
  "kernelspec": {
   "display_name": "Python 3.9.13 64-bit",
   "language": "python",
   "name": "python3"
  },
  "language_info": {
   "codemirror_mode": {
    "name": "ipython",
    "version": 3
   },
   "file_extension": ".py",
   "mimetype": "text/x-python",
   "name": "python",
   "nbconvert_exporter": "python",
   "pygments_lexer": "ipython3",
   "version": "3.9.13"
  },
  "vscode": {
   "interpreter": {
    "hash": "aee8b7b246df8f9039afb4144a1f6fd8d2ca17a180786b69acc140d282b71a49"
   }
  }
 },
 "nbformat": 4,
 "nbformat_minor": 5
}
